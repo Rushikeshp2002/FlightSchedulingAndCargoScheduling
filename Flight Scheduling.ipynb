{
 "cells": [
  {
   "cell_type": "code",
   "execution_count": 10,
   "id": "57ca71ea",
   "metadata": {},
   "outputs": [
    {
     "name": "stdout",
     "output_type": "stream",
     "text": [
      "  tail_number origin destination  departure_time  arrival_time        cargo   \n",
      "0          T1    HOU         AUS             360           405           C1  \\\n",
      "1          T2    AUS         HOU             360           405        C1,C2   \n",
      "2          T3    HOU         DAL             360           425  C1,C2,C6,C4   \n",
      "3          T4    HOU         DAL             360           425  C1,C2,C6,C4   \n",
      "4          T5    DAL         HOU             360           425  C1,C2,C6,C4   \n",
      "5          T6    DAL         HOU             360           425  C1,C2,C6,C4   \n",
      "\n",
      "   cargo_weight  \n",
      "0         200.0  \n",
      "1         500.0  \n",
      "2        1700.0  \n",
      "3        1700.0  \n",
      "4        1700.0  \n",
      "5        1700.0  \n"
     ]
    }
   ],
   "source": [
    "#Open This File in Jupyter Notbook\n",
    "import pandas as pd\n",
    "\n",
    "# Define flight schedule data\n",
    "flight_schedule = [\n",
    "    ['T1', 'HOU', 'AUS', 360, 405],\n",
    "    ['T2', 'AUS', 'HOU', 360, 405],\n",
    "    ['T3', 'HOU', 'DAL', 360, 425],\n",
    "    ['T4', 'HOU', 'DAL', 360, 425],\n",
    "    ['T5', 'DAL', 'HOU', 360, 425],\n",
    "    ['T6', 'DAL', 'HOU', 360, 425]\n",
    "]\n",
    "\n",
    "# Define cargo data\n",
    "cargo = [\n",
    "    ['C1', 'HOU', 'AUS', 200],\n",
    "    ['C2', 'AUS', 'HOU', 300],\n",
    "    ['C3', 'DAL', 'HOU', 400],\n",
    "    ['C4', 'HOU', 'DAL', 500],\n",
    "    ['C5', 'DAL', 'AUS', 600],\n",
    "    ['C6', 'HOU', 'DAL', 700]\n",
    "]\n",
    "\n",
    "# Create flight schedule dataframe\n",
    "df_flight_schedule = pd.DataFrame(flight_schedule, columns=['tail_number', 'origin', 'destination', 'departure_time', 'arrival_time'])\n",
    "\n",
    "# Sort flight schedule by departure time\n",
    "df_flight_schedule = df_flight_schedule.sort_values(by='departure_time')\n",
    "\n",
    "# Create cargo dataframe\n",
    "df_cargo = pd.DataFrame(cargo, columns=['cargo_id', 'origin', 'destination', 'weight'])\n",
    "\n",
    "# Initialize list of assigned cargo\n",
    "assigned_cargo = []\n",
    "\n",
    "# Loop through flights\n",
    "for index, row in df_flight_schedule.iterrows():\n",
    "    # Get available cargo for this flight\n",
    "    df_available_cargo = df_cargo[(df_cargo['origin'] == row['origin']) & (df_cargo['destination'] == row['destination'])]\n",
    "    # Sort available cargo by weight\n",
    "    df_available_cargo = df_available_cargo.sort_values(by='weight', ascending=False)\n",
    "    # Loop through available cargo\n",
    "    for cargo_index, cargo_row in df_available_cargo.iterrows():\n",
    "        # Check if cargo weight is less than or equal to remaining capacity\n",
    "        if cargo_row['weight'] <= (2000 - sum([x[1] for x in assigned_cargo])):\n",
    "            # Assign cargo to flight\n",
    "            assigned_cargo.append((cargo_row['cargo_id'], cargo_row['weight']))\n",
    "            # Remove cargo from available cargo\n",
    "            df_cargo.drop(index=cargo_index, inplace=True)\n",
    "    # Update flight schedule with assigned cargo\n",
    "    df_flight_schedule.at[index, 'cargo'] = ','.join([x[0] for x in assigned_cargo])\n",
    "    df_flight_schedule.at[index, 'cargo_weight'] = sum([x[1] for x in assigned_cargo])\n",
    "\n",
    "# Write flight schedule to CSV file\n",
    "df_flight_schedule.to_csv('flight_schedule.csv', index=False)\n",
    "\n",
    "#To See the Flight_Schedule.CSV\n",
    "df = pd.read_csv('flight_schedule.csv')\n",
    "print(df)\n"
   ]
  },
  {
   "cell_type": "code",
   "execution_count": null,
   "id": "e91c2a53",
   "metadata": {
    "scrolled": true
   },
   "outputs": [],
   "source": []
  },
  {
   "cell_type": "code",
   "execution_count": null,
   "id": "79131cf1",
   "metadata": {},
   "outputs": [],
   "source": [
    "\n"
   ]
  },
  {
   "cell_type": "code",
   "execution_count": null,
   "id": "eda538ca",
   "metadata": {},
   "outputs": [],
   "source": []
  },
  {
   "cell_type": "code",
   "execution_count": null,
   "id": "3086ba1a",
   "metadata": {},
   "outputs": [],
   "source": []
  },
  {
   "cell_type": "code",
   "execution_count": null,
   "id": "b8ef78fa",
   "metadata": {},
   "outputs": [],
   "source": []
  },
  {
   "cell_type": "code",
   "execution_count": null,
   "id": "0f3fb71e",
   "metadata": {},
   "outputs": [],
   "source": []
  }
 ],
 "metadata": {
  "kernelspec": {
   "display_name": "Python 3 (ipykernel)",
   "language": "python",
   "name": "python3"
  },
  "language_info": {
   "codemirror_mode": {
    "name": "ipython",
    "version": 3
   },
   "file_extension": ".py",
   "mimetype": "text/x-python",
   "name": "python",
   "nbconvert_exporter": "python",
   "pygments_lexer": "ipython3",
   "version": "3.11.3"
  }
 },
 "nbformat": 4,
 "nbformat_minor": 5
}
